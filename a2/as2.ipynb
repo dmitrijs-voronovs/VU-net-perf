{
 "cells": [
  {
   "cell_type": "code",
   "execution_count": 1,
   "metadata": {
    "collapsed": true,
    "ExecuteTime": {
     "end_time": "2023-12-06T16:31:26.187262400Z",
     "start_time": "2023-12-06T16:31:25.663897900Z"
    }
   },
   "outputs": [],
   "source": [
    "import matplotlib.pyplot as plt\n",
    "import numpy as np"
   ]
  },
  {
   "cell_type": "code",
   "execution_count": 51,
   "outputs": [],
   "source": [
    "# 1\n",
    "traffic = np.zeros(shape=46)\n",
    "traffic[0:11] = 5\n",
    "traffic[15:21] = 8\n",
    "traffic[25:46] = 2.5"
   ],
   "metadata": {
    "collapsed": false,
    "ExecuteTime": {
     "end_time": "2023-12-06T16:41:29.737554700Z",
     "start_time": "2023-12-06T16:41:29.724148900Z"
    }
   }
  },
  {
   "cell_type": "code",
   "execution_count": 52,
   "outputs": [
    {
     "data": {
      "text/plain": "[<matplotlib.lines.Line2D at 0x256c38aafb0>]"
     },
     "execution_count": 52,
     "metadata": {},
     "output_type": "execute_result"
    },
    {
     "data": {
      "text/plain": "<Figure size 640x480 with 1 Axes>",
      "image/png": "[encoded data removed]"
     },
     "metadata": {},
     "output_type": "display_data"
    }
   ],
   "source": [
    "plt.step(range(len(traffic)), traffic, where='post', color='blue')"
   ],
   "metadata": {
    "collapsed": false,
    "ExecuteTime": {
     "end_time": "2023-12-06T16:41:34.422347400Z",
     "start_time": "2023-12-06T16:41:34.274385600Z"
    }
   }
  },
  {
   "cell_type": "code",
   "execution_count": 1,
   "outputs": [
    {
     "name": "stdout",
     "output_type": "stream",
     "text": [
      "Transfer time for 10.0 KB file: 0.20120 seconds\n",
      "Transfer time for 20.0 KB file: 0.37654 seconds\n",
      "Transfer time for 50.0 KB file: 0.90257 seconds\n"
     ]
    }
   ],
   "source": [
    "# task 7\n",
    "# Given parameters\n",
    "RTT = 50  # Round-Trip Time in milliseconds\n",
    "receive_CW_size = 256 * 1024  # Receive CW size in Bytes\n",
    "bandwidth = 100 * 10**6  # Bandwidth in bits per second\n",
    "MSS = 1460  # Maximum Segment Size in Bytes\n",
    "processing_time = 50  # Request processing time in milliseconds\n",
    "\n",
    "# Convert RTT to seconds\n",
    "RTT_sec = RTT / 1000  # Convert milliseconds to seconds\n",
    "\n",
    "# Calculate initial CW size in bytes\n",
    "initial_CW_size = MSS\n",
    "\n",
    "# Calculate effective bandwidth in bytes per second\n",
    "effective_bandwidth = bandwidth / 8  # Convert bits to Bytes\n",
    "initial_window = initial_CW_size\n",
    "\n",
    "# Function to calculate transfer time for a given file size\n",
    "def calculate_transfer_time(file_size):\n",
    "    segments = (file_size + processing_time) / MSS  # Calculate the number of segments needed\n",
    "    transfer_time = RTT_sec * ((segments - 1) / 2 + 1)  # Calculate transfer time in seconds\n",
    "    return transfer_time\n",
    "\n",
    "# Calculate transfer times for different file sizes\n",
    "file_sizes = [10 * 1024, 20 * 1024, 50 * 1024]  # File sizes in Bytes\n",
    "\n",
    "for file_size in file_sizes:\n",
    "    transfer_time = calculate_transfer_time(file_size)\n",
    "    print(f\"Transfer time for {file_size / 1024} KB file: {transfer_time:.5f} seconds\")\n"
   ],
   "metadata": {
    "collapsed": false,
    "ExecuteTime": {
     "end_time": "2023-12-09T01:34:54.986141900Z",
     "start_time": "2023-12-09T01:34:54.965005200Z"
    }
   }
  }
 ],
 "metadata": {
  "kernelspec": {
   "display_name": "Python 3",
   "language": "python",
   "name": "python3"
  },
  "language_info": {
   "codemirror_mode": {
    "name": "ipython",
    "version": 2
   },
   "file_extension": ".py",
   "mimetype": "text/x-python",
   "name": "python",
   "nbconvert_exporter": "python",
   "pygments_lexer": "ipython2",
   "version": "2.7.6"
  }
 },
 "nbformat": 4,
 "nbformat_minor": 0
}
